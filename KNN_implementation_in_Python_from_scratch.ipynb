{
 "cells": [
  {
   "cell_type": "markdown",
   "metadata": {},
   "source": [
    "# K-Nearest Neighbours implementation in Python from scratch"
   ]
  },
  {
   "cell_type": "code",
   "execution_count": 31,
   "metadata": {},
   "outputs": [],
   "source": [
    "# Calculate the distance (euclidian distance) between the new point and the points we already have\n",
    "# sort the distance and select the k smallest ones \n",
    "# assign the new point the class which has the most votes in the k-nearest points"
   ]
  },
  {
   "cell_type": "code",
   "execution_count": 32,
   "metadata": {},
   "outputs": [],
   "source": [
    "# importing libraries"
   ]
  },
  {
   "cell_type": "code",
   "execution_count": 33,
   "metadata": {},
   "outputs": [],
   "source": [
    "# function to calculate the euclidian distance between 2 points:\n",
    "\n",
    "def euclidian_distance(pointA, pointB):\n",
    "    \n",
    "    dist = 0\n",
    "    \n",
    "    for i in range (len(pointA)):\n",
    "        \n",
    "        dist = dist + (pointA[i]-pointB[i])**2\n",
    "    \n",
    "    dist = dist**(1/2)\n",
    "    \n",
    "    return dist"
   ]
  },
  {
   "cell_type": "code",
   "execution_count": 34,
   "metadata": {},
   "outputs": [],
   "source": [
    "# function to sort the distances:\n",
    "# we create a list of tuples\n",
    "# each tuple is a pair (point, distance to the point)\n",
    "# we sort the list by the distance, so by the second value in each tuple\n",
    "\n",
    "def sort(train, new_point):\n",
    "    distances = []\n",
    "    \n",
    "    for row in train:\n",
    "        distances.append((row,euclidian_distance(new_point, row)))\n",
    "    \n",
    "    distances.sort(key = lambda x: x[1])\n",
    "        \n",
    "    return distances"
   ]
  },
  {
   "cell_type": "code",
   "execution_count": 35,
   "metadata": {},
   "outputs": [],
   "source": [
    "# function to get the k nearest neighbours\n",
    "# we return only the first k points, without their distances to the new point\n",
    "\n",
    "def knn(train, new_point, k):\n",
    "    \n",
    "    distances = sort(train, new_point)\n",
    "\n",
    "    neighbours = []\n",
    "    \n",
    "    for i in range (k):\n",
    "        neighbours.append(distances[i][0])\n",
    "    \n",
    "    return neighbours"
   ]
  },
  {
   "cell_type": "code",
   "execution_count": 36,
   "metadata": {},
   "outputs": [],
   "source": [
    "# function to predict the class of the new point:\n",
    "\n",
    "def predict(train, new_point, k):\n",
    "    \n",
    "    neighbours = knn(train, new_point, k)\n",
    "    \n",
    "    classes = []\n",
    "    \n",
    "    for i in range (k):\n",
    "        \n",
    "        classes.append(neighbours[i][len(neighbours)-1])\n",
    "    \n",
    "    uni_class = set(classes)\n",
    "    \n",
    "    maxi = -1\n",
    "    \n",
    "    for cl in uni_class:\n",
    "        \n",
    "        if classes.count(cl) > maxi:\n",
    "            maxi = cl\n",
    "    \n",
    "    return maxi"
   ]
  },
  {
   "cell_type": "code",
   "execution_count": 37,
   "metadata": {},
   "outputs": [
    {
     "name": "stdout",
     "output_type": "stream",
     "text": [
      "Expected 0, Got 0.\n",
      "Expected 1, Got 1.\n"
     ]
    }
   ],
   "source": [
    "# some data to train\n",
    "\n",
    "dataset = [[2.7810836,2.550537003,0],\n",
    "    [1.465489372,2.362125076,0],\n",
    "    [3.396561688,4.400293529,0],\n",
    "    [1.38807019,1.850220317,0],\n",
    "    [3.06407232,3.005305973,0],\n",
    "    [7.627531214,2.759262235,1],\n",
    "    [5.332441248,2.088626775,1],\n",
    "    [6.922596716,1.77106367,1],\n",
    "    [8.675418651,-0.242068655,1],\n",
    "    [7.673756466,3.508563011,1]]\n",
    "\n",
    "prediction0 = predict(dataset, dataset[0], 3)\n",
    "prediction1 = predict(dataset, dataset[5], 3)\n",
    "\n",
    "print('Expected %d, Got %d.' % (dataset[0][-1], prediction0))\n",
    "print('Expected %d, Got %d.' % (dataset[5][-1], prediction1))"
   ]
  },
  {
   "cell_type": "code",
   "execution_count": 38,
   "metadata": {},
   "outputs": [],
   "source": [
    "#defining an accuracy metric\n",
    "\n",
    "def accuracy(actual, predicted):\n",
    "    \n",
    "    correct = 0\n",
    "    \n",
    "    for i in range(len(actual)):\n",
    "        if actual[i] == predicted[i]:\n",
    "            correct = correct + 1\n",
    "            \n",
    "    return correct / float(len(actual)) * 100.0"
   ]
  },
  {
   "cell_type": "code",
   "execution_count": 39,
   "metadata": {},
   "outputs": [],
   "source": [
    "# some data to test\n",
    "\n",
    "test = [[1.42423, 2.23423, 0],\n",
    "       [2.23233, 4.223342, 0],\n",
    "       [3.243, 3.4353, 0],\n",
    "       [5.24353, 2.2323, 1],\n",
    "       [4.231412, 1.2321, 1],\n",
    "       [5.2322, 1.22343, 1]]\n"
   ]
  },
  {
   "cell_type": "code",
   "execution_count": 44,
   "metadata": {},
   "outputs": [
    {
     "name": "stdout",
     "output_type": "stream",
     "text": [
      "Expected 0, Got 0.\n",
      "Expected 0, Got 0.\n",
      "Expected 0, Got 0.\n",
      "Expected 1, Got 1.\n",
      "Expected 1, Got 1.\n",
      "Expected 1, Got 1.\n"
     ]
    }
   ],
   "source": [
    "\n",
    "predictions = []\n",
    "\n",
    "k=3\n",
    "\n",
    "for i in range (len(test)):\n",
    "    class_pred = predict(dataset, test[i],k)\n",
    "    predictions.append(class_pred)   \n",
    "    \n",
    "    print('Expected %d, Got %d.' % (test[i][-1], class_pred))\n"
   ]
  },
  {
   "cell_type": "code",
   "execution_count": 41,
   "metadata": {},
   "outputs": [
    {
     "name": "stdout",
     "output_type": "stream",
     "text": [
      "100.0\n"
     ]
    }
   ],
   "source": [
    "# Accuracy on the test data\n",
    "\n",
    "y_test = []\n",
    "\n",
    "for i in range(len(test)):\n",
    "    y_test.append(test[i][-1])\n",
    "\n",
    "acc = accuracy(y_test, predictions)\n",
    "\n",
    "print(acc)"
   ]
  },
  {
   "cell_type": "code",
   "execution_count": null,
   "metadata": {},
   "outputs": [],
   "source": [
    "# We can see an accuracy of 100%, due to the small size of the training and testing data\n",
    "# however, the logistic regression was able to find good coefficients for our data"
   ]
  }
 ],
 "metadata": {
  "kernelspec": {
   "display_name": "Python 3",
   "language": "python",
   "name": "python3"
  },
  "language_info": {
   "codemirror_mode": {
    "name": "ipython",
    "version": 3
   },
   "file_extension": ".py",
   "mimetype": "text/x-python",
   "name": "python",
   "nbconvert_exporter": "python",
   "pygments_lexer": "ipython3",
   "version": "3.7.3"
  }
 },
 "nbformat": 4,
 "nbformat_minor": 2
}
